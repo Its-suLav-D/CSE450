{
 "cells": [
  {
   "cell_type": "code",
   "execution_count": 4,
   "metadata": {},
   "outputs": [],
   "source": [
    "import tensorflow as tf\n",
    "import numpy as np\n",
    "import matplotlib.pyplot as plt"
   ]
  },
  {
   "cell_type": "code",
   "execution_count": 5,
   "metadata": {},
   "outputs": [
    {
     "data": {
      "text/plain": [
       "<tf.Tensor: shape=(), dtype=float32, numpy=16.0>"
      ]
     },
     "execution_count": 5,
     "metadata": {},
     "output_type": "execute_result"
    }
   ],
   "source": [
    "x = tf.Variable(4.0)\n",
    "with tf.GradientTape() as tape:\n",
    "    y = x**2\n",
    "\n",
    "y"
   ]
  },
  {
   "cell_type": "code",
   "execution_count": 6,
   "metadata": {},
   "outputs": [
    {
     "data": {
      "text/plain": [
       "<tf.Tensor: shape=(), dtype=float32, numpy=8.0>"
      ]
     },
     "execution_count": 6,
     "metadata": {},
     "output_type": "execute_result"
    }
   ],
   "source": [
    "dy_dx = tape.gradient(y,x)\n",
    "dy_dx"
   ]
  },
  {
   "cell_type": "code",
   "execution_count": 8,
   "metadata": {},
   "outputs": [
    {
     "data": {
      "text/plain": [
       "<tf.Variable 'Variable:0' shape=(4, 2) dtype=float32, numpy=\n",
       "array([[-1.191508  , -0.5896302 ],\n",
       "       [ 0.5521288 ,  0.34842315],\n",
       "       [ 0.61899793, -1.2313884 ],\n",
       "       [ 0.60828143, -0.43957108]], dtype=float32)>"
      ]
     },
     "execution_count": 8,
     "metadata": {},
     "output_type": "execute_result"
    }
   ],
   "source": [
    "w= tf.Variable(tf.random.normal((4,2)))\n",
    "w "
   ]
  },
  {
   "cell_type": "code",
   "execution_count": 9,
   "metadata": {},
   "outputs": [
    {
     "data": {
      "text/plain": [
       "<tf.Variable 'Variable:0' shape=(2,) dtype=float32, numpy=array([1., 1.], dtype=float32)>"
      ]
     },
     "execution_count": 9,
     "metadata": {},
     "output_type": "execute_result"
    }
   ],
   "source": [
    "b = tf.Variable(tf.ones(2, dtype=tf.float32))\n",
    "b"
   ]
  },
  {
   "cell_type": "code",
   "execution_count": 11,
   "metadata": {},
   "outputs": [
    {
     "data": {
      "text/plain": [
       "<tf.Variable 'Variable:0' shape=(1, 4) dtype=float32, numpy=array([[10., 20., 30., 40.]], dtype=float32)>"
      ]
     },
     "execution_count": 11,
     "metadata": {},
     "output_type": "execute_result"
    }
   ],
   "source": [
    "x = tf.Variable([[10.0,20.0,30.0,40.0]], dtype=tf.float32)\n",
    "x"
   ]
  },
  {
   "cell_type": "code",
   "execution_count": 12,
   "metadata": {},
   "outputs": [],
   "source": [
    "with tf.GradientTape(persistent=True) as tape:\n",
    "    y = tf.matmul(x,w) + b\n",
    "    loss = tf.reduce_mean(y**2)\n",
    "\n",
    "    "
   ]
  },
  {
   "cell_type": "code",
   "execution_count": 13,
   "metadata": {},
   "outputs": [],
   "source": [
    "[dl_dw, dl_db] = tape.gradient(loss, [w,b])"
   ]
  },
  {
   "cell_type": "code",
   "execution_count": 14,
   "metadata": {},
   "outputs": [
    {
     "data": {
      "text/plain": [
       "<tf.Tensor: shape=(4, 2), dtype=float32, numpy=\n",
       "array([[  430.2869,  -524.5234],\n",
       "       [  860.5738, -1049.0468],\n",
       "       [ 1290.8607, -1573.5701],\n",
       "       [ 1721.1476, -2098.0935]], dtype=float32)>"
      ]
     },
     "execution_count": 14,
     "metadata": {},
     "output_type": "execute_result"
    }
   ],
   "source": [
    "dl_dw "
   ]
  },
  {
   "cell_type": "code",
   "execution_count": 15,
   "metadata": {},
   "outputs": [
    {
     "data": {
      "text/plain": [
       "<tf.Tensor: shape=(2,), dtype=float32, numpy=array([ 43.02869 , -52.452335], dtype=float32)>"
      ]
     },
     "execution_count": 15,
     "metadata": {},
     "output_type": "execute_result"
    }
   ],
   "source": [
    "dl_db"
   ]
  },
  {
   "cell_type": "code",
   "execution_count": 16,
   "metadata": {},
   "outputs": [],
   "source": [
    "layer = tf.keras.layers.Dense(2, activation='relu')\n",
    "\n",
    "x = tf.constant([[10.0, 20., 30.]])"
   ]
  },
  {
   "cell_type": "code",
   "execution_count": 17,
   "metadata": {},
   "outputs": [],
   "source": [
    "with tf.GradientTape() as tape:\n",
    "    y = layer(x)\n",
    "    loss = tf.reduce_sum(y**2)\n",
    "\n",
    "grad = tape.gradient(loss, layer.trainable_variables)"
   ]
  },
  {
   "cell_type": "code",
   "execution_count": 18,
   "metadata": {},
   "outputs": [
    {
     "data": {
      "text/plain": [
       "[<tf.Tensor: shape=(3, 2), dtype=float32, numpy=\n",
       " array([[ 777.31287,  555.58746],\n",
       "        [1554.6257 , 1111.1749 ],\n",
       "        [2331.9385 , 1666.7625 ]], dtype=float32)>,\n",
       " <tf.Tensor: shape=(2,), dtype=float32, numpy=array([77.731285, 55.558746], dtype=float32)>]"
      ]
     },
     "execution_count": 18,
     "metadata": {},
     "output_type": "execute_result"
    }
   ],
   "source": [
    "grad"
   ]
  },
  {
   "cell_type": "code",
   "execution_count": null,
   "metadata": {},
   "outputs": [],
   "source": []
  },
  {
   "attachments": {},
   "cell_type": "markdown",
   "metadata": {},
   "source": [
    "# Simple Linear Regression"
   ]
  },
  {
   "cell_type": "code",
   "execution_count": 19,
   "metadata": {},
   "outputs": [],
   "source": [
    "W_true =  2\n",
    "b_true = 0.5 "
   ]
  },
  {
   "cell_type": "code",
   "execution_count": 22,
   "metadata": {},
   "outputs": [],
   "source": [
    "x= np.linspace(0,3,100) \n",
    "y=W_true *x + b_true + np.random.randn(*x.shape) * 0.5\n"
   ]
  },
  {
   "cell_type": "code",
   "execution_count": 23,
   "metadata": {},
   "outputs": [
    {
     "data": {
      "image/png": "[encoded data removed]",
      "text/plain": [
       "<Figure size 1000x500 with 1 Axes>"
      ]
     },
     "metadata": {},
     "output_type": "display_data"
    }
   ],
   "source": [
    "plt.figure(figsize=(10,5))\n",
    "\n",
    "plt.scatter(x,y)\n",
    "\n",
    "plt.xlabel('x')\n",
    "plt.ylabel('y')\n",
    "\n",
    "plt.title('Training Data')\n",
    "\n",
    "plt.show()\n"
   ]
  },
  {
   "cell_type": "code",
   "execution_count": 24,
   "metadata": {},
   "outputs": [],
   "source": [
    "class LinearModel():\n",
    "    def __init__(self):\n",
    "        self.weight =  tf.Variable(np.random.randn(), name='W')\n",
    "        self.bias = tf.Variable(np.random.randn(), name='b')\n",
    "\n",
    "    def __call__(self,x):\n",
    "        return self.weight * x + self.bias"
   ]
  },
  {
   "cell_type": "code",
   "execution_count": 25,
   "metadata": {},
   "outputs": [],
   "source": [
    "def loss(y, y_pred):\n",
    "    return tf.reduce_mean(tf.square(y - y_pred))"
   ]
  },
  {
   "cell_type": "code",
   "execution_count": 26,
   "metadata": {},
   "outputs": [],
   "source": [
    "def train(linear_model, x, y, lr=0.01):\n",
    "    with tf.GradientTape() as tape:\n",
    "        y_pred = linear_model(x)\n",
    "        current_loss = loss(y, y_pred)\n",
    "    dW, db = tape.gradient(current_loss, [linear_model.weight, linear_model.bias])\n",
    "    linear_model.weight.assign_sub(lr * dW)\n",
    "    linear_model.bias.assign_sub(lr * db)"
   ]
  },
  {
   "cell_type": "code",
   "execution_count": 27,
   "metadata": {},
   "outputs": [],
   "source": [
    "linear_model = LinearModel()\n",
    "\n",
    "weights, biases = [], []\n",
    "\n",
    "epochs = 100\n",
    "\n",
    "lr=0.15\n",
    "\n"
   ]
  },
  {
   "cell_type": "code",
   "execution_count": 28,
   "metadata": {},
   "outputs": [
    {
     "name": "stdout",
     "output_type": "stream",
     "text": [
      "Epoch  0: W=0.50 b=0.17, loss=8.60098\n",
      "Epoch  1: W=2.00 b=0.94, loss=0.45189\n",
      "Epoch  2: W=1.80 b=0.81, loss=0.27839\n",
      "Epoch  3: W=1.84 b=0.80, loss=0.27154\n",
      "Epoch  4: W=1.84 b=0.78, loss=0.26854\n",
      "Epoch  5: W=1.85 b=0.77, loss=0.26596\n",
      "Epoch  6: W=1.86 b=0.75, loss=0.26368\n",
      "Epoch  7: W=1.87 b=0.73, loss=0.26167\n",
      "Epoch  8: W=1.88 b=0.72, loss=0.25989\n",
      "Epoch  9: W=1.89 b=0.71, loss=0.25832\n",
      "Epoch 10: W=1.89 b=0.69, loss=0.25693\n",
      "Epoch 11: W=1.90 b=0.68, loss=0.25570\n",
      "Epoch 12: W=1.91 b=0.67, loss=0.25462\n",
      "Epoch 13: W=1.91 b=0.66, loss=0.25366\n",
      "Epoch 14: W=1.92 b=0.65, loss=0.25282\n",
      "Epoch 15: W=1.92 b=0.64, loss=0.25207\n",
      "Epoch 16: W=1.93 b=0.63, loss=0.25141\n",
      "Epoch 17: W=1.93 b=0.62, loss=0.25083\n",
      "Epoch 18: W=1.94 b=0.61, loss=0.25032\n",
      "Epoch 19: W=1.94 b=0.61, loss=0.24986\n",
      "Epoch 20: W=1.94 b=0.60, loss=0.24946\n",
      "Epoch 21: W=1.95 b=0.59, loss=0.24911\n",
      "Epoch 22: W=1.95 b=0.59, loss=0.24880\n",
      "Epoch 23: W=1.95 b=0.58, loss=0.24852\n",
      "Epoch 24: W=1.96 b=0.57, loss=0.24827\n",
      "Epoch 25: W=1.96 b=0.57, loss=0.24806\n",
      "Epoch 26: W=1.96 b=0.56, loss=0.24787\n",
      "Epoch 27: W=1.96 b=0.56, loss=0.24770\n",
      "Epoch 28: W=1.97 b=0.56, loss=0.24755\n",
      "Epoch 29: W=1.97 b=0.55, loss=0.24742\n",
      "Epoch 30: W=1.97 b=0.55, loss=0.24730\n",
      "Epoch 31: W=1.97 b=0.55, loss=0.24720\n",
      "Epoch 32: W=1.97 b=0.54, loss=0.24711\n",
      "Epoch 33: W=1.98 b=0.54, loss=0.24703\n",
      "Epoch 34: W=1.98 b=0.54, loss=0.24696\n",
      "Epoch 35: W=1.98 b=0.53, loss=0.24690\n",
      "Epoch 36: W=1.98 b=0.53, loss=0.24684\n",
      "Epoch 37: W=1.98 b=0.53, loss=0.24679\n",
      "Epoch 38: W=1.98 b=0.53, loss=0.24675\n",
      "Epoch 39: W=1.98 b=0.52, loss=0.24671\n",
      "Epoch 40: W=1.98 b=0.52, loss=0.24668\n",
      "Epoch 41: W=1.99 b=0.52, loss=0.24665\n",
      "Epoch 42: W=1.99 b=0.52, loss=0.24662\n",
      "Epoch 43: W=1.99 b=0.52, loss=0.24660\n",
      "Epoch 44: W=1.99 b=0.51, loss=0.24658\n",
      "Epoch 45: W=1.99 b=0.51, loss=0.24656\n",
      "Epoch 46: W=1.99 b=0.51, loss=0.24655\n",
      "Epoch 47: W=1.99 b=0.51, loss=0.24653\n",
      "Epoch 48: W=1.99 b=0.51, loss=0.24652\n",
      "Epoch 49: W=1.99 b=0.51, loss=0.24651\n",
      "Epoch 50: W=1.99 b=0.51, loss=0.24650\n",
      "Epoch 51: W=1.99 b=0.51, loss=0.24649\n",
      "Epoch 52: W=1.99 b=0.51, loss=0.24648\n",
      "Epoch 53: W=1.99 b=0.50, loss=0.24648\n",
      "Epoch 54: W=1.99 b=0.50, loss=0.24647\n",
      "Epoch 55: W=1.99 b=0.50, loss=0.24647\n",
      "Epoch 56: W=2.00 b=0.50, loss=0.24646\n",
      "Epoch 57: W=2.00 b=0.50, loss=0.24646\n",
      "Epoch 58: W=2.00 b=0.50, loss=0.24645\n",
      "Epoch 59: W=2.00 b=0.50, loss=0.24645\n",
      "Epoch 60: W=2.00 b=0.50, loss=0.24645\n",
      "Epoch 61: W=2.00 b=0.50, loss=0.24645\n",
      "Epoch 62: W=2.00 b=0.50, loss=0.24644\n",
      "Epoch 63: W=2.00 b=0.50, loss=0.24644\n",
      "Epoch 64: W=2.00 b=0.50, loss=0.24644\n",
      "Epoch 65: W=2.00 b=0.50, loss=0.24644\n",
      "Epoch 66: W=2.00 b=0.50, loss=0.24644\n",
      "Epoch 67: W=2.00 b=0.50, loss=0.24644\n",
      "Epoch 68: W=2.00 b=0.50, loss=0.24643\n",
      "Epoch 69: W=2.00 b=0.50, loss=0.24643\n",
      "Epoch 70: W=2.00 b=0.50, loss=0.24643\n",
      "Epoch 71: W=2.00 b=0.49, loss=0.24643\n",
      "Epoch 72: W=2.00 b=0.49, loss=0.24643\n",
      "Epoch 73: W=2.00 b=0.49, loss=0.24643\n",
      "Epoch 74: W=2.00 b=0.49, loss=0.24643\n",
      "Epoch 75: W=2.00 b=0.49, loss=0.24643\n",
      "Epoch 76: W=2.00 b=0.49, loss=0.24643\n",
      "Epoch 77: W=2.00 b=0.49, loss=0.24643\n",
      "Epoch 78: W=2.00 b=0.49, loss=0.24643\n",
      "Epoch 79: W=2.00 b=0.49, loss=0.24643\n",
      "Epoch 80: W=2.00 b=0.49, loss=0.24643\n",
      "Epoch 81: W=2.00 b=0.49, loss=0.24643\n",
      "Epoch 82: W=2.00 b=0.49, loss=0.24643\n",
      "Epoch 83: W=2.00 b=0.49, loss=0.24643\n",
      "Epoch 84: W=2.00 b=0.49, loss=0.24643\n",
      "Epoch 85: W=2.00 b=0.49, loss=0.24643\n",
      "Epoch 86: W=2.00 b=0.49, loss=0.24643\n",
      "Epoch 87: W=2.00 b=0.49, loss=0.24643\n",
      "Epoch 88: W=2.00 b=0.49, loss=0.24643\n",
      "Epoch 89: W=2.00 b=0.49, loss=0.24643\n",
      "Epoch 90: W=2.00 b=0.49, loss=0.24643\n",
      "Epoch 91: W=2.00 b=0.49, loss=0.24643\n",
      "Epoch 92: W=2.00 b=0.49, loss=0.24643\n",
      "Epoch 93: W=2.00 b=0.49, loss=0.24643\n",
      "Epoch 94: W=2.00 b=0.49, loss=0.24643\n",
      "Epoch 95: W=2.00 b=0.49, loss=0.24643\n",
      "Epoch 96: W=2.00 b=0.49, loss=0.24643\n",
      "Epoch 97: W=2.00 b=0.49, loss=0.24643\n",
      "Epoch 98: W=2.00 b=0.49, loss=0.24643\n",
      "Epoch 99: W=2.00 b=0.49, loss=0.24643\n"
     ]
    }
   ],
   "source": [
    "for epoch in range(epochs):\n",
    "    weights.append(linear_model.weight.numpy())\n",
    "    biases.append(linear_model.bias.numpy())\n",
    "    current_loss = loss(y, linear_model(x))\n",
    "    train(linear_model, x, y, lr)\n",
    "    print('Epoch %2d: W=%1.2f b=%1.2f, loss=%2.5f' %\n",
    "          (epoch, weights[-1], biases[-1], current_loss))"
   ]
  },
  {
   "cell_type": "code",
   "execution_count": 29,
   "metadata": {},
   "outputs": [
    {
     "data": {
      "image/png": "[encoded data removed]",
      "text/plain": [
       "<Figure size 1000x500 with 1 Axes>"
      ]
     },
     "metadata": {},
     "output_type": "display_data"
    }
   ],
   "source": [
    "plt.figure(figsize=(10,5))\n",
    "\n",
    "plt.plot(range(epochs), weights, 'r', range(epochs), biases, 'b')\n",
    "plt.plot([W_true] * epochs, 'r--', [b_true] * epochs, 'b--')\n",
    "\n",
    "plt.legend(['W', 'b', 'true W', 'true b'])\n",
    "plt.show()"
   ]
  },
  {
   "cell_type": "code",
   "execution_count": 30,
   "metadata": {},
   "outputs": [
    {
     "data": {
      "text/plain": [
       "(2.0008564, 0.49093333)"
      ]
     },
     "execution_count": 30,
     "metadata": {},
     "output_type": "execute_result"
    }
   ],
   "source": [
    "linear_model.weight.numpy(), linear_model.bias.numpy()\n"
   ]
  },
  {
   "cell_type": "code",
   "execution_count": 32,
   "metadata": {},
   "outputs": [
    {
     "data": {
      "image/png": "[encoded data removed]",
      "text/plain": [
       "<Figure size 1000x500 with 1 Axes>"
      ]
     },
     "metadata": {},
     "output_type": "display_data"
    }
   ],
   "source": [
    "plt.figure(figsize=(10,5))\n",
    "plt.plot(x,y, 'ro', label='Original data')\n",
    "plt.plot(x, linear_model(x), label='Fitted line')\n",
    "\n",
    "plt.title('Linear Regression')\n",
    "plt.legend()\n",
    "plt.show()"
   ]
  },
  {
   "attachments": {},
   "cell_type": "markdown",
   "metadata": {},
   "source": [
    "# Another Implementation without HandCrafting Weights and Biases\n"
   ]
  },
  {
   "cell_type": "markdown",
   "metadata": {},
   "source": []
  },
  {
   "cell_type": "code",
   "execution_count": 35,
   "metadata": {},
   "outputs": [],
   "source": [
    "from tensorflow import keras\n",
    "from tensorflow.keras import layers\n"
   ]
  },
  {
   "cell_type": "code",
   "execution_count": 36,
   "metadata": {},
   "outputs": [],
   "source": [
    "def build_single_layer_model():\n",
    "    model= keras.Sequential()\n",
    "    model.add(layers.Dense(32, input_shape=(1,), activation='sigmoid'))\n",
    "\n",
    "    model.add(layers.Dense(1))\n",
    "\n",
    "    model.compile(optimizer='adam', loss='mse', metrics=['mae', 'mse'])\n",
    "    return model\n",
    "\n",
    "    "
   ]
  },
  {
   "cell_type": "code",
   "execution_count": 37,
   "metadata": {},
   "outputs": [
    {
     "name": "stdout",
     "output_type": "stream",
     "text": [
      "Model: \"sequential\"\n",
      "_________________________________________________________________\n",
      " Layer (type)                Output Shape              Param #   \n",
      "=================================================================\n",
      " dense_1 (Dense)             (None, 32)                64        \n",
      "                                                                 \n",
      " dense_2 (Dense)             (None, 1)                 33        \n",
      "                                                                 \n",
      "=================================================================\n",
      "Total params: 97\n",
      "Trainable params: 97\n",
      "Non-trainable params: 0\n",
      "_________________________________________________________________\n"
     ]
    }
   ],
   "source": [
    "model = build_single_layer_model()\n",
    "model.summary()"
   ]
  },
  {
   "cell_type": "code",
   "execution_count": 40,
   "metadata": {},
   "outputs": [
    {
     "name": "stdout",
     "output_type": "stream",
     "text": [
      "You must install pydot (`pip install pydot`) and install graphviz (see instructions at https://graphviz.gitlab.io/download/) for plot_model to work.\n"
     ]
    }
   ],
   "source": [
    "keras.utils.plot_model(model, show_shapes=True)"
   ]
  },
  {
   "cell_type": "code",
   "execution_count": null,
   "metadata": {},
   "outputs": [],
   "source": [
    "num_epochs = 100\n",
    "\n",
    "training_history = model.fit(x_train, y_train, ephocs=num_epochs, validation_split=0.2, verbose=True)"
   ]
  },
  {
   "cell_type": "code",
   "execution_count": null,
   "metadata": {},
   "outputs": [],
   "source": [
    "plt.figure(figsize=(10,5))\n",
    "\n",
    "plt.subplot(1,2,1)\n",
    "\n",
    "plt.plot(training_history.history['mae'], label='loss')\n",
    "plt.plot(training_history.history['val_mae'], label='val_loss')\n",
    "\n",
    "plt.title('Model MAE')\n",
    "plt.ylabel('MAE')\n",
    "plt.xlabel('Epoch')\n",
    "plt.legend(['train'], 'val')\n",
    "\n",
    "plt.subplot(1,2,2)\n",
    "\n",
    "plt.plot(training_history.history['loss'], label='loss')\n",
    "plt.plot(training_history.history['val_loss'], label='val_loss')\n",
    "\n",
    "plt.title('Model Loss')\n",
    "plt.ylabel('Loss')\n",
    "plt.xlabel('Epoch')\n",
    "plt.legend(['train'], 'val')\n"
   ]
  },
  {
   "cell_type": "code",
   "execution_count": 41,
   "metadata": {},
   "outputs": [
    {
     "name": "stdout",
     "output_type": "stream",
     "text": [
      "total 224\n",
      "224 -rw-r--r--  1 sulavdahal  staff  112994 Feb 17 16:08 variables.ipynb\n"
     ]
    }
   ],
   "source": [
    "!rm -rf seq_logs\n",
    "!ls -ls "
   ]
  },
  {
   "cell_type": "code",
   "execution_count": 42,
   "metadata": {},
   "outputs": [],
   "source": [
    "import os \n",
    "import datetime"
   ]
  },
  {
   "cell_type": "code",
   "execution_count": null,
   "metadata": {},
   "outputs": [],
   "source": [
    "logdir = os.path.join('seq_logs', datetime.datetime.now().strftime('%Y%m%d-%H%M%S'))\n",
    "tensorboard_callback = tf.keras.callbacks.TensorBoard(logdir, histogram_freq=1)\n"
   ]
  },
  {
   "cell_type": "code",
   "execution_count": null,
   "metadata": {},
   "outputs": [],
   "source": [
    "training_history = model.fit(x_train, y_train, ephocs=num_epochs, validation_split=0.2, verbose=True, callbacks=[tensorboard_callback])"
   ]
  },
  {
   "cell_type": "code",
   "execution_count": null,
   "metadata": {},
   "outputs": [],
   "source": [
    "%load_ext tensorboard\n",
    "%tensorboard --logdir seq_logs --port 6050"
   ]
  }
 ],
 "metadata": {
  "kernelspec": {
   "display_name": "base",
   "language": "python",
   "name": "python3"
  },
  "language_info": {
   "codemirror_mode": {
    "name": "ipython",
    "version": 3
   },
   "file_extension": ".py",
   "mimetype": "text/x-python",
   "name": "python",
   "nbconvert_exporter": "python",
   "pygments_lexer": "ipython3",
   "version": "3.9.13"
  },
  "orig_nbformat": 4,
  "vscode": {
   "interpreter": {
    "hash": "6605757627c94c7488a7e1a953bb120c7f839f1b785aad816b5b5986f57f3b3e"
   }
  }
 },
 "nbformat": 4,
 "nbformat_minor": 2
}
