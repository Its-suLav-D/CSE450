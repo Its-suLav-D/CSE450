{
 "cells": [
  {
   "cell_type": "code",
   "execution_count": 1,
   "metadata": {},
   "outputs": [],
   "source": [
    "%load_ext tensorboard "
   ]
  },
  {
   "cell_type": "code",
   "execution_count": 2,
   "metadata": {},
   "outputs": [],
   "source": [
    "!rm -rf ./logs/ "
   ]
  },
  {
   "cell_type": "code",
   "execution_count": 3,
   "metadata": {},
   "outputs": [
    {
     "name": "stderr",
     "output_type": "stream",
     "text": [
      "2023-02-20 15:44:42.400604: I tensorflow/core/platform/cpu_feature_guard.cc:193] This TensorFlow binary is optimized with oneAPI Deep Neural Network Library (oneDNN) to use the following CPU instructions in performance-critical operations:  SSE4.1 SSE4.2\n",
      "To enable them in other operations, rebuild TensorFlow with the appropriate compiler flags.\n"
     ]
    }
   ],
   "source": [
    "import tensorflow as tf\n",
    "from tensorboard.plugins.hparams import api as hp"
   ]
  },
  {
   "cell_type": "code",
   "execution_count": 4,
   "metadata": {},
   "outputs": [
    {
     "name": "stdout",
     "output_type": "stream",
     "text": [
      "Downloading data from https://storage.googleapis.com/tensorflow/tf-keras-datasets/mnist.npz\n",
      "11490434/11490434 [==============================] - 1s 0us/step\n"
     ]
    }
   ],
   "source": [
    "mnist = tf.keras.datasets.mnist\n",
    "\n",
    "(x_train, y_train),(x_test, y_test) = mnist.load_data()\n",
    "x_train, x_test = x_train / 255.0, x_test / 255.0"
   ]
  },
  {
   "cell_type": "code",
   "execution_count": 6,
   "metadata": {},
   "outputs": [
    {
     "name": "stderr",
     "output_type": "stream",
     "text": [
      "2023-02-20 15:45:56.281614: I tensorflow/core/platform/cpu_feature_guard.cc:193] This TensorFlow binary is optimized with oneAPI Deep Neural Network Library (oneDNN) to use the following CPU instructions in performance-critical operations:  SSE4.1 SSE4.2\n",
      "To enable them in other operations, rebuild TensorFlow with the appropriate compiler flags.\n"
     ]
    }
   ],
   "source": [
    "HP_NUM_UNITS = hp.HParam('num_units', hp.Discrete([256, 512]))\n",
    "HP_DROPOUT = hp.HParam('dropout', hp.RealInterval(0.5, 0.6))\n",
    "HP_OPTIMIZER = hp.HParam('optimizer', hp.Discrete(['adam','sgd','rmsprop']))\n",
    "HP_L2 = hp.HParam('l2 regularizer', hp.RealInterval(.001,.01))\n",
    "\n",
    "METRIC_ACCURACY = 'accuracy'\n",
    "\n",
    "with tf.summary.create_file_writer('logs/hparam_tuning').as_default():\n",
    "  hp.hparams_config(\n",
    "    hparams=[HP_NUM_UNITS, HP_DROPOUT, HP_OPTIMIZER,HP_L2],\n",
    "    metrics=[hp.Metric(METRIC_ACCURACY, display_name='Accuracy')],\n",
    "  )"
   ]
  },
  {
   "cell_type": "code",
   "execution_count": 7,
   "metadata": {},
   "outputs": [],
   "source": [
    "def train_test_model(hparams):\n",
    "  model = tf.keras.models.Sequential([\n",
    "    tf.keras.layers.Flatten(),\n",
    "    tf.keras.layers.Dense(hparams[HP_NUM_UNITS], kernel_regularizer=tf.keras.regularizers.l2(0.001), activation=tf.nn.relu),\n",
    "    tf.keras.layers.Dropout(hparams[HP_DROPOUT]),\n",
    "    tf.keras.layers.Dense(10, activation=tf.nn.softmax),\n",
    "  ])\n",
    "  model.compile(\n",
    "      optimizer=hparams[HP_OPTIMIZER],\n",
    "      loss='sparse_categorical_crossentropy',\n",
    "      metrics=['accuracy'],\n",
    "  )\n",
    "\n",
    "  model.fit(x_train, y_train, epochs=2) \n",
    "  _, accuracy = model.evaluate(x_test, y_test)\n",
    "  return accuracy"
   ]
  },
  {
   "cell_type": "code",
   "execution_count": 8,
   "metadata": {},
   "outputs": [],
   "source": [
    "\n",
    "def run(run_dir, hparams):\n",
    "  with tf.summary.create_file_writer(run_dir).as_default():\n",
    "    hp.hparams(hparams)  # record the values used in this trial\n",
    "    accuracy = train_test_model(hparams)\n",
    "    tf.summary.scalar(METRIC_ACCURACY, accuracy, step=2)"
   ]
  },
  {
   "cell_type": "code",
   "execution_count": 9,
   "metadata": {},
   "outputs": [
    {
     "name": "stdout",
     "output_type": "stream",
     "text": [
      "--- Starting trial: run-0\n",
      "{'num_units': 256, 'dropout': 0.5, 'l2 regularizer': 0.001, 'optimizer': 'adam'}\n",
      "Epoch 1/2\n",
      "1875/1875 [==============================] - 3s 1ms/step - loss: 0.4978 - accuracy: 0.9003\n",
      "Epoch 2/2\n",
      "1875/1875 [==============================] - 2s 1ms/step - loss: 0.3355 - accuracy: 0.9371\n",
      "313/313 [==============================] - 0s 806us/step - loss: 0.2487 - accuracy: 0.9599\n",
      "--- Starting trial: run-1\n",
      "{'num_units': 256, 'dropout': 0.5, 'l2 regularizer': 0.001, 'optimizer': 'rmsprop'}\n",
      "Epoch 1/2\n",
      "1875/1875 [==============================] - 3s 2ms/step - loss: 0.4748 - accuracy: 0.8971\n",
      "Epoch 2/2\n",
      "1875/1875 [==============================] - 3s 2ms/step - loss: 0.3152 - accuracy: 0.9312\n",
      "313/313 [==============================] - 0s 773us/step - loss: 0.2264 - accuracy: 0.9552\n",
      "--- Starting trial: run-2\n",
      "{'num_units': 256, 'dropout': 0.5, 'l2 regularizer': 0.001, 'optimizer': 'sgd'}\n",
      "Epoch 1/2\n",
      "1875/1875 [==============================] - 2s 1ms/step - loss: 1.1388 - accuracy: 0.7818\n",
      "Epoch 2/2\n",
      "1875/1875 [==============================] - 2s 1ms/step - loss: 0.7720 - accuracy: 0.8804\n",
      "313/313 [==============================] - 0s 807us/step - loss: 0.6383 - accuracy: 0.9207\n",
      "--- Starting trial: run-3\n",
      "{'num_units': 256, 'dropout': 0.5, 'l2 regularizer': 0.01, 'optimizer': 'adam'}\n",
      "Epoch 1/2\n",
      "1875/1875 [==============================] - 2s 1ms/step - loss: 0.5034 - accuracy: 0.8995\n",
      "Epoch 2/2\n",
      "1875/1875 [==============================] - 2s 1ms/step - loss: 0.3347 - accuracy: 0.9362\n",
      "313/313 [==============================] - 0s 738us/step - loss: 0.2510 - accuracy: 0.9615\n",
      "--- Starting trial: run-4\n",
      "{'num_units': 256, 'dropout': 0.5, 'l2 regularizer': 0.01, 'optimizer': 'rmsprop'}\n",
      "Epoch 1/2\n",
      "1875/1875 [==============================] - 3s 2ms/step - loss: 0.4722 - accuracy: 0.8995\n",
      "Epoch 2/2\n",
      "1875/1875 [==============================] - 3s 2ms/step - loss: 0.3135 - accuracy: 0.9311\n",
      "313/313 [==============================] - 0s 814us/step - loss: 0.2197 - accuracy: 0.9569\n",
      "--- Starting trial: run-5\n",
      "{'num_units': 256, 'dropout': 0.5, 'l2 regularizer': 0.01, 'optimizer': 'sgd'}\n",
      "Epoch 1/2\n",
      "1875/1875 [==============================] - 2s 1ms/step - loss: 1.1304 - accuracy: 0.7861\n",
      "Epoch 2/2\n",
      "1875/1875 [==============================] - 2s 1ms/step - loss: 0.7707 - accuracy: 0.8829\n",
      "313/313 [==============================] - 0s 726us/step - loss: 0.6366 - accuracy: 0.9220\n",
      "--- Starting trial: run-6\n",
      "{'num_units': 256, 'dropout': 0.6, 'l2 regularizer': 0.001, 'optimizer': 'adam'}\n",
      "Epoch 1/2\n",
      "1875/1875 [==============================] - 3s 1ms/step - loss: 0.5484 - accuracy: 0.8875\n",
      "Epoch 2/2\n",
      "1875/1875 [==============================] - 3s 1ms/step - loss: 0.3777 - accuracy: 0.9270\n",
      "313/313 [==============================] - 0s 808us/step - loss: 0.2724 - accuracy: 0.9561\n",
      "--- Starting trial: run-7\n",
      "{'num_units': 256, 'dropout': 0.6, 'l2 regularizer': 0.001, 'optimizer': 'rmsprop'}\n",
      "Epoch 1/2\n",
      "1875/1875 [==============================] - 3s 2ms/step - loss: 0.5193 - accuracy: 0.8848\n",
      "Epoch 2/2\n",
      "1875/1875 [==============================] - 3s 2ms/step - loss: 0.3527 - accuracy: 0.9212\n",
      "313/313 [==============================] - 0s 920us/step - loss: 0.2346 - accuracy: 0.9538\n",
      "--- Starting trial: run-8\n",
      "{'num_units': 256, 'dropout': 0.6, 'l2 regularizer': 0.001, 'optimizer': 'sgd'}\n",
      "Epoch 1/2\n",
      "1875/1875 [==============================] - 2s 1ms/step - loss: 1.1773 - accuracy: 0.7641\n",
      "Epoch 2/2\n",
      "1875/1875 [==============================] - 2s 1ms/step - loss: 0.7992 - accuracy: 0.8733\n",
      "313/313 [==============================] - 0s 775us/step - loss: 0.6468 - accuracy: 0.9181\n",
      "--- Starting trial: run-9\n",
      "{'num_units': 256, 'dropout': 0.6, 'l2 regularizer': 0.01, 'optimizer': 'adam'}\n",
      "Epoch 1/2\n",
      "1875/1875 [==============================] - 2s 1ms/step - loss: 0.5448 - accuracy: 0.8875\n",
      "Epoch 2/2\n",
      "1875/1875 [==============================] - 2s 1ms/step - loss: 0.3780 - accuracy: 0.9255\n",
      "313/313 [==============================] - 0s 819us/step - loss: 0.2735 - accuracy: 0.9555\n",
      "--- Starting trial: run-10\n",
      "{'num_units': 256, 'dropout': 0.6, 'l2 regularizer': 0.01, 'optimizer': 'rmsprop'}\n",
      "Epoch 1/2\n",
      "1875/1875 [==============================] - 3s 2ms/step - loss: 0.5200 - accuracy: 0.8859\n",
      "Epoch 2/2\n",
      "1875/1875 [==============================] - 3s 2ms/step - loss: 0.3536 - accuracy: 0.9197\n",
      "313/313 [==============================] - 0s 743us/step - loss: 0.2473 - accuracy: 0.9496\n",
      "--- Starting trial: run-11\n",
      "{'num_units': 256, 'dropout': 0.6, 'l2 regularizer': 0.01, 'optimizer': 'sgd'}\n",
      "Epoch 1/2\n",
      "1875/1875 [==============================] - 2s 1ms/step - loss: 1.1778 - accuracy: 0.7663\n",
      "Epoch 2/2\n",
      "1875/1875 [==============================] - 2s 1ms/step - loss: 0.8030 - accuracy: 0.8720\n",
      "313/313 [==============================] - 0s 750us/step - loss: 0.6442 - accuracy: 0.9194\n",
      "--- Starting trial: run-12\n",
      "{'num_units': 512, 'dropout': 0.5, 'l2 regularizer': 0.001, 'optimizer': 'adam'}\n",
      "Epoch 1/2\n",
      "1875/1875 [==============================] - 3s 2ms/step - loss: 0.5046 - accuracy: 0.9099\n",
      "Epoch 2/2\n",
      "1875/1875 [==============================] - 3s 2ms/step - loss: 0.3464 - accuracy: 0.9398\n",
      "313/313 [==============================] - 0s 962us/step - loss: 0.2786 - accuracy: 0.9624\n",
      "--- Starting trial: run-13\n",
      "{'num_units': 512, 'dropout': 0.5, 'l2 regularizer': 0.001, 'optimizer': 'rmsprop'}\n",
      "Epoch 1/2\n",
      "1875/1875 [==============================] - 4s 2ms/step - loss: 0.4694 - accuracy: 0.9069\n",
      "Epoch 2/2\n",
      "1875/1875 [==============================] - 4s 2ms/step - loss: 0.3127 - accuracy: 0.9343\n",
      "313/313 [==============================] - 0s 919us/step - loss: 0.2341 - accuracy: 0.9549\n",
      "--- Starting trial: run-14\n",
      "{'num_units': 512, 'dropout': 0.5, 'l2 regularizer': 0.001, 'optimizer': 'sgd'}\n",
      "Epoch 1/2\n",
      "1875/1875 [==============================] - 3s 2ms/step - loss: 1.3060 - accuracy: 0.8037\n",
      "Epoch 2/2\n",
      "1875/1875 [==============================] - 3s 2ms/step - loss: 0.9543 - accuracy: 0.8898\n",
      "313/313 [==============================] - 0s 901us/step - loss: 0.8326 - accuracy: 0.9228\n",
      "--- Starting trial: run-15\n",
      "{'num_units': 512, 'dropout': 0.5, 'l2 regularizer': 0.01, 'optimizer': 'adam'}\n",
      "Epoch 1/2\n",
      "1875/1875 [==============================] - 4s 2ms/step - loss: 0.5012 - accuracy: 0.9109\n",
      "Epoch 2/2\n",
      "1875/1875 [==============================] - 3s 2ms/step - loss: 0.3452 - accuracy: 0.9395\n",
      "313/313 [==============================] - 0s 915us/step - loss: 0.2858 - accuracy: 0.9571\n",
      "--- Starting trial: run-16\n",
      "{'num_units': 512, 'dropout': 0.5, 'l2 regularizer': 0.01, 'optimizer': 'rmsprop'}\n",
      "Epoch 1/2\n",
      "1875/1875 [==============================] - 5s 2ms/step - loss: 0.4717 - accuracy: 0.9069\n",
      "Epoch 2/2\n",
      "1875/1875 [==============================] - 4s 2ms/step - loss: 0.3107 - accuracy: 0.9359\n",
      "313/313 [==============================] - 0s 1ms/step - loss: 0.2285 - accuracy: 0.9581\n",
      "--- Starting trial: run-17\n",
      "{'num_units': 512, 'dropout': 0.5, 'l2 regularizer': 0.01, 'optimizer': 'sgd'}\n",
      "Epoch 1/2\n",
      "1875/1875 [==============================] - 3s 2ms/step - loss: 1.3035 - accuracy: 0.8049\n",
      "Epoch 2/2\n",
      "1875/1875 [==============================] - 3s 2ms/step - loss: 0.9498 - accuracy: 0.8897\n",
      "313/313 [==============================] - 0s 976us/step - loss: 0.8347 - accuracy: 0.9225\n",
      "--- Starting trial: run-18\n",
      "{'num_units': 512, 'dropout': 0.6, 'l2 regularizer': 0.001, 'optimizer': 'adam'}\n",
      "Epoch 1/2\n",
      "1875/1875 [==============================] - 4s 2ms/step - loss: 0.5472 - accuracy: 0.9013\n",
      "Epoch 2/2\n",
      "1875/1875 [==============================] - 3s 2ms/step - loss: 0.3841 - accuracy: 0.9307\n",
      "313/313 [==============================] - 0s 968us/step - loss: 0.2931 - accuracy: 0.9600\n",
      "--- Starting trial: run-19\n",
      "{'num_units': 512, 'dropout': 0.6, 'l2 regularizer': 0.001, 'optimizer': 'rmsprop'}\n",
      "Epoch 1/2\n",
      "1875/1875 [==============================] - 5s 2ms/step - loss: 0.5086 - accuracy: 0.8972\n",
      "Epoch 2/2\n",
      "1875/1875 [==============================] - 4s 2ms/step - loss: 0.3457 - accuracy: 0.9246\n",
      "313/313 [==============================] - 0s 1ms/step - loss: 0.2397 - accuracy: 0.9562\n",
      "--- Starting trial: run-20\n",
      "{'num_units': 512, 'dropout': 0.6, 'l2 regularizer': 0.001, 'optimizer': 'sgd'}\n",
      "Epoch 1/2\n",
      "1875/1875 [==============================] - 3s 2ms/step - loss: 1.3431 - accuracy: 0.7875\n",
      "Epoch 2/2\n",
      "1875/1875 [==============================] - 3s 2ms/step - loss: 0.9689 - accuracy: 0.8848\n",
      "313/313 [==============================] - 0s 923us/step - loss: 0.8328 - accuracy: 0.9221\n",
      "--- Starting trial: run-21\n",
      "{'num_units': 512, 'dropout': 0.6, 'l2 regularizer': 0.01, 'optimizer': 'adam'}\n",
      "Epoch 1/2\n",
      "1875/1875 [==============================] - 3s 2ms/step - loss: 0.5424 - accuracy: 0.9015\n",
      "Epoch 2/2\n",
      "1875/1875 [==============================] - 3s 2ms/step - loss: 0.3806 - accuracy: 0.9338\n",
      "313/313 [==============================] - 0s 944us/step - loss: 0.2995 - accuracy: 0.9583\n",
      "--- Starting trial: run-22\n",
      "{'num_units': 512, 'dropout': 0.6, 'l2 regularizer': 0.01, 'optimizer': 'rmsprop'}\n",
      "Epoch 1/2\n",
      "1875/1875 [==============================] - 4s 2ms/step - loss: 0.5095 - accuracy: 0.8981\n",
      "Epoch 2/2\n",
      "1875/1875 [==============================] - 4s 2ms/step - loss: 0.3468 - accuracy: 0.9254\n",
      "313/313 [==============================] - 0s 853us/step - loss: 0.2431 - accuracy: 0.9560\n",
      "--- Starting trial: run-23\n",
      "{'num_units': 512, 'dropout': 0.6, 'l2 regularizer': 0.01, 'optimizer': 'sgd'}\n",
      "Epoch 1/2\n",
      "1875/1875 [==============================] - 3s 1ms/step - loss: 1.3332 - accuracy: 0.7886\n",
      "Epoch 2/2\n",
      "1875/1875 [==============================] - 3s 1ms/step - loss: 0.9678 - accuracy: 0.8841\n",
      "313/313 [==============================] - 0s 962us/step - loss: 0.8335 - accuracy: 0.9231\n"
     ]
    }
   ],
   "source": [
    "session_num = 0\n",
    "\n",
    "for num_units in HP_NUM_UNITS.domain.values:\n",
    "  for dropout_rate in (HP_DROPOUT.domain.min_value, HP_DROPOUT.domain.max_value):\n",
    "    for l2 in (HP_L2.domain.min_value, HP_L2.domain.max_value):\n",
    "      for optimizer in HP_OPTIMIZER.domain.values:\n",
    "        hparams = {\n",
    "            HP_NUM_UNITS: num_units,\n",
    "            HP_DROPOUT: dropout_rate,\n",
    "            HP_L2: l2,\n",
    "            HP_OPTIMIZER: optimizer,\n",
    "        }\n",
    "        run_name = \"run-%d\" % session_num\n",
    "        print('--- Starting trial: %s' % run_name)\n",
    "        print({h.name: hparams[h] for h in hparams})\n",
    "        run('logs/hparam_tuning/' + run_name, hparams)\n",
    "        session_num += 1"
   ]
  },
  {
   "cell_type": "code",
   "execution_count": 11,
   "metadata": {},
   "outputs": [
    {
     "data": {
      "text/html": [
       "\n",
       "      <iframe id=\"tensorboard-frame-f49bde20f3b89c65\" width=\"100%\" height=\"800\" frameborder=\"0\">\n",
       "      </iframe>\n",
       "      <script>\n",
       "        (function() {\n",
       "          const frame = document.getElementById(\"tensorboard-frame-f49bde20f3b89c65\");\n",
       "          const url = new URL(\"/\", window.location);\n",
       "          const port = 6050;\n",
       "          if (port) {\n",
       "            url.port = port;\n",
       "          }\n",
       "          frame.src = url;\n",
       "        })();\n",
       "      </script>\n",
       "    "
      ],
      "text/plain": [
       "<IPython.core.display.HTML object>"
      ]
     },
     "metadata": {},
     "output_type": "display_data"
    }
   ],
   "source": [
    "%tensorboard --logdir logs/hparam_tuning --port 6050 \n"
   ]
  },
  {
   "cell_type": "code",
   "execution_count": null,
   "metadata": {},
   "outputs": [],
   "source": []
  }
 ],
 "metadata": {
  "kernelspec": {
   "display_name": "base",
   "language": "python",
   "name": "python3"
  },
  "language_info": {
   "codemirror_mode": {
    "name": "ipython",
    "version": 3
   },
   "file_extension": ".py",
   "mimetype": "text/x-python",
   "name": "python",
   "nbconvert_exporter": "python",
   "pygments_lexer": "ipython3",
   "version": "3.9.13"
  },
  "orig_nbformat": 4,
  "vscode": {
   "interpreter": {
    "hash": "6605757627c94c7488a7e1a953bb120c7f839f1b785aad816b5b5986f57f3b3e"
   }
  }
 },
 "nbformat": 4,
 "nbformat_minor": 2
}
