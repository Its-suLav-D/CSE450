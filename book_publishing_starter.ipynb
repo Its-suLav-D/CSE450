{
  "cells": [
    {
      "cell_type": "markdown",
      "metadata": {
        "id": "view-in-github",
        "colab_type": "text"
      },
      "source": [
        "<a href=\"https://colab.research.google.com/github/Its-suLav-D/CSE450/blob/main/book_publishing_starter.ipynb\" target=\"_parent\"><img src=\"https://colab.research.google.com/assets/colab-badge.svg\" alt=\"Open In Colab\"/></a>"
      ]
    },
    {
      "cell_type": "code",
      "execution_count": null,
      "metadata": {
        "id": "XtiXE04uGB_U"
      },
      "outputs": [],
      "source": [
        "# Import libraries\n",
        "import tensorflow as tf\n",
        "from tensorflow.keras.layers.experimental import preprocessing\n",
        "\n",
        "import numpy as np\n",
        "import os\n",
        "import time"
      ]
    },
    {
      "cell_type": "markdown",
      "metadata": {
        "id": "qv4r-dKnSRKz"
      },
      "source": [
        "## I. Parse Text Sources\n",
        "First we'll load our text sources and create our vocabulary lists and encoders. \n",
        "\n",
        "There are ways we could do this in pure python, but using the tensorflow data structures and libraries allow us to keep things super-optimized."
      ]
    },
    {
      "cell_type": "code",
      "execution_count": null,
      "metadata": {
        "colab": {
          "base_uri": "https://localhost:8080/"
        },
        "id": "H8RbnIjwHGoR",
        "outputId": "8ab978d6-6225-49e5-8f12-b6494876a8e2"
      },
      "outputs": [
        {
          "output_type": "stream",
          "name": "stdout",
          "text": [
            "Downloading data from https://www.gutenberg.org/cache/epub/730/pg730.txt\n",
            "955784/955784 [==============================] - 1s 1us/step\n",
            "Length of text: 925179 characters\n"
          ]
        }
      ],
      "source": [
        "# Load file data\n",
        "path_to_file = tf.keras.utils.get_file('dickens.txt', 'https://www.gutenberg.org/cache/epub/730/pg730.txt')\n",
        "text = open(path_to_file, 'rb').read()[6365:].decode(encoding='utf-8')\n",
        "print('Length of text: {} characters'.format(len(text)))"
      ]
    },
    {
      "cell_type": "code",
      "execution_count": null,
      "metadata": {
        "colab": {
          "base_uri": "https://localhost:8080/"
        },
        "id": "2XRnt0XUHUrq",
        "outputId": "cbd4e680-d63c-4359-9480-a74280d41840"
      },
      "outputs": [
        {
          "output_type": "stream",
          "name": "stdout",
          "text": [
            "\n",
            "\r\n",
            "\r\n",
            " CHAPTER I.\r\n",
            "TREATS OF THE PLACE WHERE OLIVER TWIST WAS BORN AND OF THE\r\n",
            "CIRCUMSTANCES ATTENDING HIS BIRTH\r\n",
            "\r\n",
            "\r\n",
            "Among other public buildings in a certain town, which for many reasons\r\n",
            "it will be \n"
          ]
        }
      ],
      "source": [
        "# Verify the first part of our data\n",
        "print(text[:200])"
      ]
    },
    {
      "cell_type": "code",
      "execution_count": null,
      "metadata": {
        "colab": {
          "base_uri": "https://localhost:8080/"
        },
        "id": "2SLd7l0HP1Po",
        "outputId": "de7a4ea3-ac6e-45fa-d163-6eb4c8e9d889"
      },
      "outputs": [
        {
          "output_type": "stream",
          "name": "stdout",
          "text": [
            "88 unique characters\n",
            "['\\n', '\\r', ' ', '!', '$', '%', \"'\", '(', ')', '*', ',', '-', '.', '/', '0', '1', '2', '3', '4', '5', '6', '7', '8', '9', ':', ';', '?', 'A', 'B', 'C', 'D', 'E', 'F', 'G', 'H', 'I', 'J', 'K', 'L', 'M', 'N', 'O', 'P', 'Q', 'R', 'S', 'T', 'U', 'V', 'W', 'X', 'Y', 'Z', '[', ']', 'a', 'b', 'c', 'd', 'e', 'f', 'g', 'h', 'i', 'j', 'k', 'l', 'm', 'n', 'o', 'p', 'q', 'r', 's', 't', 'u', 'v', 'w', 'x', 'y', 'z', '—', '‘', '’', '“', '”', '•', '™']\n"
          ]
        }
      ],
      "source": [
        "# Now we'll get a list of the unique characters in the file. This will form the\n",
        "# vocabulary of our network. There may be some characters we want to remove from this \n",
        "# set as we refine the network.\n",
        "vocab = sorted(set(text))\n",
        "vocab.remove(\"_\")\n",
        "print('{} unique characters'.format(len(vocab)))\n",
        "print(vocab)"
      ]
    },
    {
      "cell_type": "code",
      "execution_count": null,
      "metadata": {
        "id": "NtjOxL7wQibb"
      },
      "outputs": [],
      "source": [
        "# Next, we'll encode encode these characters into numbers so we can use them\n",
        "# with our neural network, then we'll create some mappings between the characters\n",
        "# and their numeric representations\n",
        "ids_from_chars = preprocessing.StringLookup(vocabulary=list(vocab))\n",
        "chars_from_ids = tf.keras.layers.experimental.preprocessing.StringLookup(vocabulary=ids_from_chars.get_vocabulary(), invert=True)\n",
        "\n",
        "# Here's a little helper function that we can use to turn a sequence of ids\n",
        "# back into a string:\n",
        "# turn them into a string:\n",
        "def text_from_ids(ids):\n",
        "  joinedTensor = tf.strings.reduce_join(chars_from_ids(ids), axis=-1)\n",
        "  return joinedTensor.numpy().decode(\"utf-8\")"
      ]
    },
    {
      "cell_type": "code",
      "execution_count": null,
      "metadata": {
        "colab": {
          "base_uri": "https://localhost:8080/"
        },
        "id": "52bkemreRw8q",
        "outputId": "ccaa8914-c8f5-4369-b963-1b830af1793b"
      },
      "outputs": [
        {
          "output_type": "execute_result",
          "data": {
            "text/plain": [
              "<tf.Tensor: shape=(5,), dtype=int64, numpy=array([47, 73, 76, 75, 63])>"
            ]
          },
          "metadata": {},
          "execution_count": 6
        }
      ],
      "source": [
        "# Now we'll verify that they work, by getting the code for \"A\", and then looking\n",
        "# that up in reverse\n",
        "testids = ids_from_chars([\"T\", \"r\", \"u\", \"t\", \"h\"])\n",
        "testids"
      ]
    },
    {
      "cell_type": "code",
      "execution_count": null,
      "metadata": {
        "colab": {
          "base_uri": "https://localhost:8080/"
        },
        "id": "vGUnSHjtD_IJ",
        "outputId": "2fd46793-9d43-48d0-c768-8ddc111bcf67"
      },
      "outputs": [
        {
          "output_type": "execute_result",
          "data": {
            "text/plain": [
              "<tf.Tensor: shape=(5,), dtype=string, numpy=array([b'T', b'r', b'u', b't', b'h'], dtype=object)>"
            ]
          },
          "metadata": {},
          "execution_count": 7
        }
      ],
      "source": [
        "chars_from_ids(testids)"
      ]
    },
    {
      "cell_type": "code",
      "execution_count": null,
      "metadata": {
        "colab": {
          "base_uri": "https://localhost:8080/",
          "height": 35
        },
        "id": "8rghkpLLLjL5",
        "outputId": "395f737c-f626-4e08-8551-1c35595b9b63"
      },
      "outputs": [
        {
          "output_type": "execute_result",
          "data": {
            "text/plain": [
              "'Truth'"
            ],
            "application/vnd.google.colaboratory.intrinsic+json": {
              "type": "string"
            }
          },
          "metadata": {},
          "execution_count": 8
        }
      ],
      "source": [
        "testString = text_from_ids( testids )\n",
        "testString"
      ]
    },
    {
      "cell_type": "markdown",
      "metadata": {
        "id": "MRXMVqTcSpA0"
      },
      "source": [
        "## II. Construct our training data\n",
        "Next we need to construct our training data by building sentence chunks. Each chunk will consist of a sequence of characters and a corresponding \"next sequence\" of the same length showing what would happen if we move forward in the text. This \"next sequence\" becomes our target variable.\n",
        "\n",
        "For example, if this were our text:\n",
        "\n",
        "> It is a truth universally acknowledged, that a single man in possession\n",
        "of a good fortune, must be in want of a wife.\n",
        "\n",
        "And our sequence length was 10 with a step size of 1, our first chunk would be:\n",
        "\n",
        "* Sequence: `It is a tr`\n",
        "* Next Sequence: `t is a tru`\n",
        "\n",
        "Our second chunk would be:\n",
        "\n",
        "* Sequence: `t is a tru`\n",
        "* Next Word: ` is a trut`\n",
        "\n"
      ]
    },
    {
      "cell_type": "code",
      "execution_count": null,
      "metadata": {
        "colab": {
          "base_uri": "https://localhost:8080/"
        },
        "id": "5PLJWOg2P_fE",
        "outputId": "08b17584-9fb5-402a-b1e6-8044480eccfd"
      },
      "outputs": [
        {
          "output_type": "execute_result",
          "data": {
            "text/plain": [
              "<tf.Tensor: shape=(925179,), dtype=int64, numpy=array([1, 2, 1, ..., 1, 2, 1])>"
            ]
          },
          "metadata": {},
          "execution_count": 9
        }
      ],
      "source": [
        "# First, create a stream of encoded integers from our text\n",
        "all_ids = ids_from_chars(tf.strings.unicode_split(text, 'UTF-8'))\n",
        "all_ids"
      ]
    },
    {
      "cell_type": "code",
      "execution_count": null,
      "metadata": {
        "id": "-nBqVY6pFpZs"
      },
      "outputs": [],
      "source": [
        "# Now, convert that into a tensorflow dataset\n",
        "ids_dataset = tf.data.Dataset.from_tensor_slices(all_ids)"
      ]
    },
    {
      "cell_type": "code",
      "execution_count": null,
      "metadata": {
        "id": "8Fr28CJxUBtG"
      },
      "outputs": [],
      "source": [
        "# Finally, let's batch these sequences up into chunks for our training\n",
        "seq_length = 150\n",
        "sequences = ids_dataset.batch(seq_length+1, drop_remainder=True)\n",
        "\n",
        "# This function will generate our sequence pairs:\n",
        "def split_input_target(sequence):\n",
        "    input_text = sequence[:-1]\n",
        "    target_text = sequence[1:]\n",
        "    return input_text, target_text\n",
        "\n",
        "# Call the function for every sequence in our list to create a new dataset\n",
        "# of input->target pairs\n",
        "dataset = sequences.map(split_input_target)"
      ]
    },
    {
      "cell_type": "code",
      "execution_count": null,
      "metadata": {
        "colab": {
          "base_uri": "https://localhost:8080/"
        },
        "id": "poNVukmsUFkq",
        "outputId": "3bd8cf85-0b0a-46c1-92f9-5a9a3fecf4f5"
      },
      "outputs": [
        {
          "output_type": "stream",
          "name": "stdout",
          "text": [
            "Input:  \n",
            "\r\n",
            "\r\n",
            " CHAPTER I.\r\n",
            "TREATS OF THE PLACE WHERE OLIVER TWIST WAS BORN AND OF THE\r\n",
            "CIRCUMSTANCES ATTENDING HIS BIRTH\r\n",
            "\r\n",
            "\r\n",
            "Among other public buildings in a\n",
            "--------\n",
            "Target:  \r\n",
            "\r\n",
            " CHAPTER I.\r\n",
            "TREATS OF THE PLACE WHERE OLIVER TWIST WAS BORN AND OF THE\r\n",
            "CIRCUMSTANCES ATTENDING HIS BIRTH\r\n",
            "\r\n",
            "\r\n",
            "Among other public buildings in a \n"
          ]
        }
      ],
      "source": [
        "# Verify our sequences\n",
        "for input_example, target_example in  dataset.take(1):\n",
        "    print(\"Input: \", text_from_ids(input_example))\n",
        "    print(\"--------\")\n",
        "    print(\"Target: \", text_from_ids(target_example))"
      ]
    },
    {
      "cell_type": "code",
      "execution_count": null,
      "metadata": {
        "colab": {
          "base_uri": "https://localhost:8080/"
        },
        "id": "QDdr6xfZYa0o",
        "outputId": "f7bcde60-a842-44ac-baf8-a57373469e34"
      },
      "outputs": [
        {
          "output_type": "execute_result",
          "data": {
            "text/plain": [
              "<PrefetchDataset element_spec=(TensorSpec(shape=(64, 150), dtype=tf.int64, name=None), TensorSpec(shape=(64, 150), dtype=tf.int64, name=None))>"
            ]
          },
          "metadata": {},
          "execution_count": 13
        }
      ],
      "source": [
        "# Finally, we'll randomize the sequences so that we don't just memorize the books\n",
        "# in the order they were written, then build a new streaming dataset from that.\n",
        "# Using a streaming dataset allows us to pass the data to our network bit by bit,\n",
        "# rather than keeping it all in memory. We'll set it to figure out how much data\n",
        "# to prefetch in the background.\n",
        "\n",
        "BATCH_SIZE = 64\n",
        "BUFFER_SIZE = 10000\n",
        "\n",
        "dataset = (\n",
        "    dataset\n",
        "    .shuffle(BUFFER_SIZE)\n",
        "    .batch(BATCH_SIZE, drop_remainder=True)\n",
        "    .prefetch(tf.data.experimental.AUTOTUNE))\n",
        "\n",
        "dataset"
      ]
    },
    {
      "cell_type": "markdown",
      "metadata": {
        "id": "0VQ-KjEeZMzd"
      },
      "source": [
        "## III. Build the model\n",
        "\n",
        "Next, we'll build our model. Up until this point, you've been using the Keras symbolic, or imperative API for creating your models. Doing something like:\n",
        "\n",
        "    model = tf.keras.models.Sequentla()\n",
        "    model.add(tf.keras.layers.Dense(80, activation='relu))\n",
        "    etc...\n",
        "\n",
        "However, tensorflow has another way to build models called the Functional API, which gives us a lot more control over what happens inside the model. You can read more about [the differences and when to use each here](https://blog.tensorflow.org/2019/01/what-are-symbolic-and-imperative-apis.html).\n",
        "\n",
        "We'll use the functional API for our RNN in this example. This will involve defining our model as a custom subclass of `tf.keras.Model`.\n",
        "\n",
        "If you're not familiar with classes in python, you might want to review [this quick tutorial](https://www.w3schools.com/python/python_classes.asp), as well as [this one on class inheritance](https://www.w3schools.com/python/python_inheritance.asp).\n",
        "\n",
        "Using a functional model is important for our situation because we're not just training it to predict a single character for a single sequence, but as we make predictions with it, we need it to remember those predictions as use that memory as it makes new predictions.\n"
      ]
    },
    {
      "cell_type": "code",
      "execution_count": null,
      "metadata": {
        "id": "Fj4uh9y-Y9mx"
      },
      "outputs": [],
      "source": [
        "# Create our custom model. Given a sequence of characters, this\n",
        "# model's job is to predict what character should come next.\n",
        "class AustenTextModel(tf.keras.Model):\n",
        "\n",
        "  # This is our class constructor method, it will be executed when\n",
        "  # we first create an instance of the class \n",
        "  def __init__(self, vocab_size, embedding_dim, rnn_units):\n",
        "    super().__init__(self)\n",
        "\n",
        "    # Our model will have three layers:\n",
        "    \n",
        "    # 1. An embedding layer that handles the encoding of our vocabulary into\n",
        "    #    a vector of values suitable for a neural network\n",
        "    self.embedding = tf.keras.layers.Embedding(vocab_size, embedding_dim)\n",
        "\n",
        "    # 2. A GRU layer that handles the \"memory\" aspects of our RNN. If you're\n",
        "    #    wondering why we use GRU instead of LSTM, and whether LSTM is better,\n",
        "    #    take a look at this article: https://datascience.stackexchange.com/questions/14581/when-to-use-gru-over-lstm\n",
        "    #    then consider trying out LSTM instead (or in addition to!)\n",
        "    self.gru = tf.keras.layers.GRU(rnn_units, return_sequences=True, return_state=True)\n",
        "\n",
        "    # 3. Our output layer that will give us a set of probabilities for each\n",
        "    #    character in our vocabulary.\n",
        "    self.dense1 = tf.keras.layers.Dense(1024)\n",
        "    self.dense2 = tf.keras.layers.Dense(512)\n",
        "    self.dense = tf.keras.layers.Dense(vocab_size)\n",
        "\n",
        "  # This function will be executed for each epoch of our training. Here\n",
        "  # we will manually feed information from one layer of our network to the \n",
        "  # next.\n",
        "  def call(self, inputs, states=None, return_state=False, training=False):\n",
        "    x = inputs\n",
        "\n",
        "    # 1. Feed the inputs into the embedding layer, and tell it if we are\n",
        "    #    training or predicting\n",
        "    x = self.embedding(x, training=training)\n",
        "\n",
        "    # 2. If we don't have any state in memory yet, get the initial random state\n",
        "    #    from our GRUI layer.\n",
        "    if states is None:\n",
        "      states = self.gru.get_initial_state(x)\n",
        "    \n",
        "    # 3. Now, feed the vectorized input along with the current state of memory\n",
        "    #    into the gru layer.\n",
        "    x, states = self.gru(x, initial_state=states, training=training)\n",
        "\n",
        "    # 4. Finally, pass the results on to the dense layer\n",
        "    x= self.dense1(x, training=training)\n",
        "    x= self.dense2(x, training=training)\n",
        "    x = self.dense(x, training=training)\n",
        "\n",
        "    # 5. Return the results\n",
        "    if return_state:\n",
        "      return x, states\n",
        "    else: \n",
        "      return x"
      ]
    },
    {
      "cell_type": "code",
      "execution_count": null,
      "metadata": {
        "id": "UA2C6pxZc4De"
      },
      "outputs": [],
      "source": [
        "# Create an instance of our model\n",
        "vocab_size=len(ids_from_chars.get_vocabulary())\n",
        "embedding_dim = 256\n",
        "rnn_units = 1024\n",
        "\n",
        "model = AustenTextModel(vocab_size, embedding_dim, rnn_units)"
      ]
    },
    {
      "cell_type": "code",
      "execution_count": null,
      "metadata": {
        "colab": {
          "base_uri": "https://localhost:8080/"
        },
        "id": "C67kN7YAdfSf",
        "outputId": "984a6cdf-9a55-4a42-9ee8-b7ac89b36c27"
      },
      "outputs": [
        {
          "output_type": "stream",
          "name": "stdout",
          "text": [
            "(64, 150, 89) # (batch_size, sequence_length, vocab_size)\n"
          ]
        }
      ],
      "source": [
        "# Verify the output of our model is correct by running one sample through\n",
        "# This will also compile the model for us. This step will take a bit.\n",
        "for input_example_batch, target_example_batch in dataset.take(1):\n",
        "    example_batch_predictions = model(input_example_batch)\n",
        "    print(example_batch_predictions.shape, \"# (batch_size, sequence_length, vocab_size)\")\n"
      ]
    },
    {
      "cell_type": "code",
      "execution_count": null,
      "metadata": {
        "colab": {
          "base_uri": "https://localhost:8080/"
        },
        "id": "qJGL8gCWdsiu",
        "outputId": "f9444c7d-fe7f-4d52-9ea3-966c9ed79bbe"
      },
      "outputs": [
        {
          "output_type": "stream",
          "name": "stdout",
          "text": [
            "Model: \"austen_text_model\"\n",
            "_________________________________________________________________\n",
            " Layer (type)                Output Shape              Param #   \n",
            "=================================================================\n",
            " embedding (Embedding)       multiple                  22784     \n",
            "                                                                 \n",
            " gru (GRU)                   multiple                  3938304   \n",
            "                                                                 \n",
            " dense (Dense)               multiple                  1049600   \n",
            "                                                                 \n",
            " dense_1 (Dense)             multiple                  524800    \n",
            "                                                                 \n",
            " dense_2 (Dense)             multiple                  45657     \n",
            "                                                                 \n",
            "=================================================================\n",
            "Total params: 5,581,145\n",
            "Trainable params: 5,581,145\n",
            "Non-trainable params: 0\n",
            "_________________________________________________________________\n"
          ]
        }
      ],
      "source": [
        "# Now let's view the model summary\n",
        "model.summary()"
      ]
    },
    {
      "cell_type": "markdown",
      "metadata": {
        "id": "wTDe5m4baEqo"
      },
      "source": [
        "## IV. Train the model\n",
        "\n",
        "For our purposes, we'll be using [categorical cross entropy](https://machinelearningmastery.com/cross-entropy-for-machine-learning/) as our loss function*. Also, our model will be outputting [\"logits\" rather than normalized probabilities](https://stackoverflow.com/questions/41455101/what-is-the-meaning-of-the-word-logits-in-tensorflow), because we'll be doing further transformations on the output later. \n",
        "\n",
        "\n",
        "\\* Note that since our model deals with integer encoding rather than one-hot encoding, we'll specifically be using [sparse categorical cross entropy](https://stats.stackexchange.com/questions/326065/cross-entropy-vs-sparse-cross-entropy-when-to-use-one-over-the-other)."
      ]
    },
    {
      "cell_type": "code",
      "execution_count": null,
      "metadata": {
        "colab": {
          "base_uri": "https://localhost:8080/"
        },
        "id": "7vOxc7CkaGQB",
        "outputId": "5aac2a16-b3d2-46fa-dfa4-99525dcbf879"
      },
      "outputs": [
        {
          "output_type": "stream",
          "name": "stdout",
          "text": [
            "Epoch 1/50\n",
            "95/95 [==============================] - 16s 110ms/step - loss: 2.6358\n",
            "Epoch 2/50\n",
            "95/95 [==============================] - 11s 103ms/step - loss: 2.0131\n",
            "Epoch 3/50\n",
            "95/95 [==============================] - 11s 105ms/step - loss: 1.7681\n",
            "Epoch 4/50\n",
            "95/95 [==============================] - 11s 104ms/step - loss: 1.6150\n",
            "Epoch 5/50\n",
            "95/95 [==============================] - 12s 107ms/step - loss: 1.5028\n",
            "Epoch 6/50\n",
            "95/95 [==============================] - 12s 110ms/step - loss: 1.4216\n",
            "Epoch 7/50\n",
            "95/95 [==============================] - 12s 111ms/step - loss: 1.3552\n",
            "Epoch 8/50\n",
            "95/95 [==============================] - 12s 110ms/step - loss: 1.2998\n",
            "Epoch 9/50\n",
            "95/95 [==============================] - 12s 109ms/step - loss: 1.2488\n",
            "Epoch 10/50\n",
            "95/95 [==============================] - 12s 114ms/step - loss: 1.1997\n",
            "Epoch 11/50\n",
            "95/95 [==============================] - 12s 111ms/step - loss: 1.1544\n",
            "Epoch 12/50\n",
            "95/95 [==============================] - 12s 109ms/step - loss: 1.1111\n",
            "Epoch 13/50\n",
            "95/95 [==============================] - 12s 105ms/step - loss: 1.0665\n",
            "Epoch 14/50\n",
            "95/95 [==============================] - 12s 109ms/step - loss: 1.0179\n",
            "Epoch 15/50\n",
            "95/95 [==============================] - 12s 114ms/step - loss: 0.9638\n",
            "Epoch 16/50\n",
            "95/95 [==============================] - 12s 115ms/step - loss: 0.9050\n",
            "Epoch 17/50\n",
            "95/95 [==============================] - 12s 111ms/step - loss: 0.8387\n",
            "Epoch 18/50\n",
            "95/95 [==============================] - 12s 108ms/step - loss: 0.7696\n",
            "Epoch 19/50\n",
            "95/95 [==============================] - 11s 105ms/step - loss: 0.6948\n",
            "Epoch 20/50\n",
            "95/95 [==============================] - 12s 108ms/step - loss: 0.6212\n",
            "Epoch 21/50\n",
            "95/95 [==============================] - 12s 113ms/step - loss: 0.5547\n",
            "Epoch 22/50\n",
            "95/95 [==============================] - 13s 111ms/step - loss: 0.4886\n",
            "Epoch 23/50\n",
            "95/95 [==============================] - 13s 113ms/step - loss: 0.4340\n",
            "Epoch 24/50\n",
            "95/95 [==============================] - 12s 106ms/step - loss: 0.3891\n",
            "Epoch 25/50\n",
            "95/95 [==============================] - 12s 110ms/step - loss: 0.3459\n",
            "Epoch 26/50\n",
            "95/95 [==============================] - 12s 113ms/step - loss: 0.3093\n",
            "Epoch 27/50\n",
            "95/95 [==============================] - 12s 110ms/step - loss: 0.2843\n",
            "Epoch 28/50\n",
            "95/95 [==============================] - 12s 107ms/step - loss: 0.2574\n",
            "Epoch 29/50\n",
            "95/95 [==============================] - 12s 111ms/step - loss: 0.2373\n",
            "Epoch 30/50\n",
            "95/95 [==============================] - 12s 116ms/step - loss: 0.2230\n",
            "Epoch 31/50\n",
            "95/95 [==============================] - 12s 110ms/step - loss: 0.2050\n",
            "Epoch 32/50\n",
            "95/95 [==============================] - 12s 114ms/step - loss: 0.1910\n",
            "Epoch 33/50\n",
            "95/95 [==============================] - 12s 110ms/step - loss: 0.1808\n",
            "Epoch 34/50\n",
            "95/95 [==============================] - 12s 109ms/step - loss: 0.1714\n",
            "Epoch 35/50\n",
            "95/95 [==============================] - 12s 108ms/step - loss: 0.1631\n",
            "Epoch 36/50\n",
            "95/95 [==============================] - 12s 109ms/step - loss: 0.1571\n",
            "Epoch 37/50\n",
            "95/95 [==============================] - 12s 109ms/step - loss: 0.1529\n",
            "Epoch 38/50\n",
            "95/95 [==============================] - 12s 108ms/step - loss: 0.1494\n",
            "Epoch 39/50\n",
            "95/95 [==============================] - 12s 114ms/step - loss: 0.1454\n",
            "Epoch 40/50\n",
            "95/95 [==============================] - 12s 114ms/step - loss: 0.1413\n",
            "Epoch 41/50\n",
            "95/95 [==============================] - 12s 110ms/step - loss: 0.1378\n",
            "Epoch 42/50\n",
            "95/95 [==============================] - 12s 108ms/step - loss: 0.1326\n",
            "Epoch 43/50\n",
            "95/95 [==============================] - 12s 108ms/step - loss: 0.1299\n",
            "Epoch 44/50\n",
            "95/95 [==============================] - 12s 109ms/step - loss: 0.1272\n",
            "Epoch 45/50\n",
            "95/95 [==============================] - 12s 110ms/step - loss: 0.1288\n",
            "Epoch 46/50\n",
            "95/95 [==============================] - 12s 110ms/step - loss: 0.1289\n",
            "Epoch 47/50\n",
            "95/95 [==============================] - 12s 108ms/step - loss: 0.1259\n",
            "Epoch 48/50\n",
            "95/95 [==============================] - 13s 113ms/step - loss: 0.1253\n",
            "Epoch 49/50\n",
            "95/95 [==============================] - 13s 116ms/step - loss: 0.1233\n",
            "Epoch 50/50\n",
            "95/95 [==============================] - 12s 112ms/step - loss: 0.1204\n"
          ]
        }
      ],
      "source": [
        "loss = tf.losses.SparseCategoricalCrossentropy(from_logits=True)\n",
        "model.compile(optimizer='adam', loss=loss)\n",
        "\n",
        "history = model.fit(dataset, epochs=50)"
      ]
    },
    {
      "cell_type": "code",
      "source": [
        "import matplotlib.pyplot as plt\n",
        "\n",
        "# Get training loss and accuracy values from the history object\n",
        "loss = history.history['loss']\n",
        "\n",
        "\n",
        "# Create the x-axis values (epochs)\n",
        "epochs = range(1, len(loss) + 1)\n",
        "\n",
        "# Plot training loss\n",
        "plt.plot(epochs, loss, 'b', label='Training loss')\n",
        "plt.title('Training Loss')\n",
        "plt.xlabel('Epochs')\n",
        "plt.ylabel('Loss')\n",
        "plt.legend()\n",
        "plt.show()\n",
        "\n"
      ],
      "metadata": {
        "id": "mvUM7rKqTgSh",
        "outputId": "b05982a4-0496-4045-e39a-fc61b97643ee",
        "colab": {
          "base_uri": "https://localhost:8080/",
          "height": 295
        }
      },
      "execution_count": null,
      "outputs": [
        {
          "output_type": "display_data",
          "data": {
            "text/plain": [
              "<Figure size 432x288 with 1 Axes>"
            ],
            "image/png": "[encoded data removed]"
          },
          "metadata": {
            "needs_background": "light"
          }
        }
      ]
    },
    {
      "cell_type": "code",
      "source": [
        "import numpy as np\n",
        "\n",
        "perplexity = np.exp(history.history['loss'])\n",
        "plt.plot(epochs, perplexity, 'r', label='Perplexity')\n",
        "plt.title('Training Perplexity')\n",
        "plt.xlabel('Epochs')\n",
        "plt.ylabel('Perplexity')\n",
        "plt.legend()\n",
        "plt.show()\n"
      ],
      "metadata": {
        "id": "8I1y8RkuVXzg",
        "outputId": "729b02ed-11f9-4170-f219-2c91e18d5c7d",
        "colab": {
          "base_uri": "https://localhost:8080/",
          "height": 295
        }
      },
      "execution_count": null,
      "outputs": [
        {
          "output_type": "display_data",
          "data": {
            "text/plain": [
              "<Figure size 432x288 with 1 Axes>"
            ],
            "image/png": "[encoded data removed]"
          },
          "metadata": {
            "needs_background": "light"
          }
        }
      ]
    },
    {
      "cell_type": "code",
      "source": [
        "from google.colab import drive\n",
        "drive.mount('/content/drive')"
      ],
      "metadata": {
        "colab": {
          "base_uri": "https://localhost:8080/"
        },
        "id": "aTuqxkMi3kpI",
        "outputId": "c35d436e-5cce-41c9-d04f-ba9dd55a3d16"
      },
      "execution_count": null,
      "outputs": [
        {
          "output_type": "stream",
          "name": "stdout",
          "text": [
            "Mounted at /content/drive\n"
          ]
        }
      ]
    },
    {
      "cell_type": "code",
      "source": [
        "model.save('/content/drive/MyDrive/bookpublish/dickens')"
      ],
      "metadata": {
        "colab": {
          "base_uri": "https://localhost:8080/"
        },
        "id": "_p5iujMA37Gw",
        "outputId": "bb3c5862-f5a6-432b-de5c-0947cf38d24b"
      },
      "execution_count": null,
      "outputs": [
        {
          "output_type": "stream",
          "name": "stderr",
          "text": [
            "WARNING:absl:Found untraced functions such as gru_cell_layer_call_fn, gru_cell_layer_call_and_return_conditional_losses while saving (showing 2 of 2). These functions will not be directly callable after loading.\n"
          ]
        }
      ]
    },
    {
      "cell_type": "code",
      "source": [
        "!pip install keras"
      ],
      "metadata": {
        "id": "wpBBw2a0Pd6i",
        "outputId": "de2783ca-1292-45c8-c2c2-797a1ce3c84d",
        "colab": {
          "base_uri": "https://localhost:8080/"
        }
      },
      "execution_count": null,
      "outputs": [
        {
          "output_type": "stream",
          "name": "stdout",
          "text": [
            "Looking in indexes: https://pypi.org/simple, https://us-python.pkg.dev/colab-wheels/public/simple/\n",
            "Requirement already satisfied: keras in /usr/local/lib/python3.9/dist-packages (2.11.0)\n"
          ]
        }
      ]
    },
    {
      "cell_type": "code",
      "source": [
        "import tensorflow.keras as keras\n"
      ],
      "metadata": {
        "id": "XaTES3ofPVvG"
      },
      "execution_count": null,
      "outputs": []
    },
    {
      "cell_type": "code",
      "source": [
        "model = keras.models.load_model('/content/drive/MyDrive/bookpublish')"
      ],
      "metadata": {
        "id": "loYW0L134LJ0",
        "outputId": "94c0d363-0fcf-4312-95ab-cfa4abb0730f",
        "colab": {
          "base_uri": "https://localhost:8080/",
          "height": 318
        }
      },
      "execution_count": null,
      "outputs": [
        {
          "output_type": "error",
          "ename": "OSError",
          "evalue": "ignored",
          "traceback": [
            "\u001b[0;31m---------------------------------------------------------------------------\u001b[0m",
            "\u001b[0;31mOSError\u001b[0m                                   Traceback (most recent call last)",
            "\u001b[0;32m<ipython-input-27-75060943da74>\u001b[0m in \u001b[0;36m<module>\u001b[0;34m\u001b[0m\n\u001b[0;32m----> 1\u001b[0;31m \u001b[0mmodel\u001b[0m \u001b[0;34m=\u001b[0m \u001b[0mkeras\u001b[0m\u001b[0;34m.\u001b[0m\u001b[0mmodels\u001b[0m\u001b[0;34m.\u001b[0m\u001b[0mload_model\u001b[0m\u001b[0;34m(\u001b[0m\u001b[0;34m'/content/drive/MyDrive/bookpublish'\u001b[0m\u001b[0;34m)\u001b[0m\u001b[0;34m\u001b[0m\u001b[0;34m\u001b[0m\u001b[0m\n\u001b[0m",
            "\u001b[0;32m/usr/local/lib/python3.9/dist-packages/keras/utils/traceback_utils.py\u001b[0m in \u001b[0;36merror_handler\u001b[0;34m(*args, **kwargs)\u001b[0m\n\u001b[1;32m     68\u001b[0m             \u001b[0;31m# To get the full stack trace, call:\u001b[0m\u001b[0;34m\u001b[0m\u001b[0;34m\u001b[0m\u001b[0m\n\u001b[1;32m     69\u001b[0m             \u001b[0;31m# `tf.debugging.disable_traceback_filtering()`\u001b[0m\u001b[0;34m\u001b[0m\u001b[0;34m\u001b[0m\u001b[0m\n\u001b[0;32m---> 70\u001b[0;31m             \u001b[0;32mraise\u001b[0m \u001b[0me\u001b[0m\u001b[0;34m.\u001b[0m\u001b[0mwith_traceback\u001b[0m\u001b[0;34m(\u001b[0m\u001b[0mfiltered_tb\u001b[0m\u001b[0;34m)\u001b[0m \u001b[0;32mfrom\u001b[0m \u001b[0;32mNone\u001b[0m\u001b[0;34m\u001b[0m\u001b[0;34m\u001b[0m\u001b[0m\n\u001b[0m\u001b[1;32m     71\u001b[0m         \u001b[0;32mfinally\u001b[0m\u001b[0;34m:\u001b[0m\u001b[0;34m\u001b[0m\u001b[0;34m\u001b[0m\u001b[0m\n\u001b[1;32m     72\u001b[0m             \u001b[0;32mdel\u001b[0m \u001b[0mfiltered_tb\u001b[0m\u001b[0;34m\u001b[0m\u001b[0;34m\u001b[0m\u001b[0m\n",
            "\u001b[0;32m/usr/local/lib/python3.9/dist-packages/tensorflow/python/saved_model/loader_impl.py\u001b[0m in \u001b[0;36mparse_saved_model\u001b[0;34m(export_dir)\u001b[0m\n\u001b[1;32m    113\u001b[0m       \u001b[0;32mraise\u001b[0m \u001b[0mIOError\u001b[0m\u001b[0;34m(\u001b[0m\u001b[0;34mf\"Cannot parse file {path_to_pbtxt}: {str(e)}.\"\u001b[0m\u001b[0;34m)\u001b[0m\u001b[0;34m\u001b[0m\u001b[0;34m\u001b[0m\u001b[0m\n\u001b[1;32m    114\u001b[0m   \u001b[0;32melse\u001b[0m\u001b[0;34m:\u001b[0m\u001b[0;34m\u001b[0m\u001b[0;34m\u001b[0m\u001b[0m\n\u001b[0;32m--> 115\u001b[0;31m     raise IOError(\n\u001b[0m\u001b[1;32m    116\u001b[0m         \u001b[0;34mf\"SavedModel file does not exist at: {export_dir}{os.path.sep}\"\u001b[0m\u001b[0;34m\u001b[0m\u001b[0;34m\u001b[0m\u001b[0m\n\u001b[1;32m    117\u001b[0m         \u001b[0;34mf\"{{{constants.SAVED_MODEL_FILENAME_PBTXT}|\"\u001b[0m\u001b[0;34m\u001b[0m\u001b[0;34m\u001b[0m\u001b[0m\n",
            "\u001b[0;31mOSError\u001b[0m: SavedModel file does not exist at: /content/drive/MyDrive/bookpublish/{saved_model.pbtxt|saved_model.pb}"
          ]
        }
      ]
    },
    {
      "cell_type": "markdown",
      "metadata": {
        "id": "casEwxrXcv4Y"
      },
      "source": [
        "## V. Use the model\n",
        "\n",
        "Now that our model has been trained, we can use it to generate text. As mentioned earlier, to do so we have to keep track of its internal state, or memory, so that we can use previous text predictions to inform later ones.\n",
        "\n",
        "However, with RNN generated text, if we always just pick the character with the highest probability, our model tends to get stuck in a loop. So instead we will create a probability distribution of characters for each step, and then sample from that distribution. We can add some variation to this using a paramter known as [\"temperature\"](https://cs.stackexchange.com/questions/79241/what-is-temperature-in-lstm-and-neural-networks-generally)."
      ]
    },
    {
      "cell_type": "code",
      "execution_count": null,
      "metadata": {
        "id": "V3lhlyfwcqIN"
      },
      "outputs": [],
      "source": [
        "# Here's the code we'll use to sample for us. It has some extra steps to apply\n",
        "# the temperature to the distribution, and to make sure we don't get empty\n",
        "# characters in our text. Most importantly, it will keep track of our model\n",
        "# state for us.\n",
        "\n",
        "class OneStep(tf.keras.Model):\n",
        "  def __init__(self, model, chars_from_ids, ids_from_chars, temperature=0.2):\n",
        "    super().__init__()\n",
        "    self.temperature=temperature\n",
        "    self.model = model\n",
        "    self.chars_from_ids = chars_from_ids\n",
        "    self.ids_from_chars = ids_from_chars\n",
        "\n",
        "    # Create a mask to prevent \"\" or \"[UNK]\" from being generated.\n",
        "    skip_ids = self.ids_from_chars(['','[UNK]'])[:, None]\n",
        "    sparse_mask = tf.SparseTensor(\n",
        "        # Put a -inf at each bad index.\n",
        "        values=[-float('inf')]*len(skip_ids),\n",
        "        indices = skip_ids,\n",
        "        # Match the shape to the vocabulary\n",
        "        dense_shape=[len(ids_from_chars.get_vocabulary())]) \n",
        "    self.prediction_mask = tf.sparse.to_dense(sparse_mask,validate_indices=False)\n",
        "\n",
        "  @tf.function\n",
        "  def generate_one_step(self, inputs, states=None):\n",
        "    # Convert strings to token IDs.\n",
        "    input_chars = tf.strings.unicode_split(inputs, 'UTF-8')\n",
        "    input_ids = self.ids_from_chars(input_chars).to_tensor()\n",
        "\n",
        "    # Run the model.\n",
        "    # predicted_logits.shape is [batch, char, next_char_logits] \n",
        "    predicted_logits, states =  self.model(inputs=input_ids, states=states, \n",
        "                                          return_state=True)\n",
        "    # Only use the last prediction.\n",
        "    predicted_logits = predicted_logits[:, -1, :]\n",
        "    predicted_logits = predicted_logits/self.temperature\n",
        "    \n",
        "    # Apply the prediction mask: prevent \"\" or \"[UNK]\" from being generated.\n",
        "    predicted_logits = predicted_logits + self.prediction_mask\n",
        "\n",
        "    # Sample the output logits to generate token IDs.\n",
        "    predicted_ids = tf.random.categorical(predicted_logits, num_samples=1)\n",
        "    predicted_ids = tf.squeeze(predicted_ids, axis=-1)\n",
        "\n",
        "    # Return the characters and model state.\n",
        "    return chars_from_ids(predicted_ids), states\n"
      ]
    },
    {
      "cell_type": "code",
      "execution_count": null,
      "metadata": {
        "colab": {
          "base_uri": "https://localhost:8080/"
        },
        "id": "fSUghgUFc6ba",
        "outputId": "e5506ae9-0707-4c0f-f72e-a72555a1aea1"
      },
      "outputs": [
        {
          "output_type": "stream",
          "name": "stdout",
          "text": [
            "CHAPTER I.\r\n",
            "TOEVER BETTER ACQUAINTEST WHEN HASTER BETWEEN HARRY, ED.AHLED ANYOLION SHEARS A SUBDEN COSLECEMES OF MERCHAMEN BY FAGIN, A very\r\n",
            "Oliver had expectation, as fasiness at the medge of his right angles; and wrenching his\r\n",
            "hands tighter and tighter in the garments of all in singar:\r\n",
            "and enableed in the heavy manner, that Oliver was on his turpound load, had\r\n",
            "entered the shop without attracting the door, and looking\r\n",
            "refreshing to Mr. Brothles, shall in it. Some happiness, the Project\r\n",
            "Gutenberg Literary Archive Foundation, the manager of the \r\n",
            "letter courc around the door. Brittles obeyed; the girl’s life and half-headed or fiftient; and\r\n",
            "then, although he could hear it was the boy and his young comrade\r\n",
            "sat in a corner by themselves, without being much troubled by their\r\n",
            "company.\r\n",
            "\r\n",
            "They had some cold meat for dinner, and sat himself downstairs to the eye, the expression of steenny\r\n",
            "fumiating, stepped up the stairs inchint for his drast with the hands of\r\n",
            "his hands into his pockets, and\n"
          ]
        }
      ],
      "source": [
        "# Create an instance of the character generator\n",
        "one_step_model = OneStep(model, chars_from_ids, ids_from_chars)\n",
        "\n",
        "# Now, let's generate a 1000 character chapter by giving our model \"Chapter 1\"\n",
        "# as its starting text\n",
        "states = None\n",
        "next_char = tf.constant(['CHAPTER I'])\n",
        "result = [next_char]\n",
        "\n",
        "for n in range(1000):\n",
        "  next_char, states = one_step_model.generate_one_step(next_char, states=states)\n",
        "  result.append(next_char)\n",
        "\n",
        "result = tf.strings.join(result)\n",
        "\n",
        "# Print the results formatted.\n",
        "print(result[0].numpy().decode('utf-8'))\n",
        "\n",
        "\n"
      ]
    },
    {
      "cell_type": "markdown",
      "metadata": {
        "id": "b2Cudf3YoaKr"
      },
      "source": [
        "## VI. Next Steps\n",
        "\n",
        "This is a very simple model with one GRU layer and then an output layer. However, considering how simple it is and the fact that we are predicting outputs character by character, the text it produces is pretty amazing. Though it still has a long way to go before publication.\n",
        "\n",
        "There are many other RNN architectures you could try, such as adding additional hidden dense layers, replacing GRU with one or more LSTM layers, combining GRU and LSTM, etc...\n",
        "\n",
        "You could also experiment with better text cleanup to make sure odd punctuation doesn't appear, or finding longer texts to use. If you combine texts from two authors, what happens? Can you generate a Jane Austen stageplay by combining austen and shakespeare texts?\n",
        "\n",
        "Finally, there are a number of hyperparameters to tweak, such as temperature, epochs, batch size, sequence length, etc..."
      ]
    },
    {
      "cell_type": "code",
      "source": [
        "!pip install nltk\n"
      ],
      "metadata": {
        "id": "INTiBvhgMT5y",
        "outputId": "8934666e-90a4-401a-cda0-4f9ea47276c4",
        "colab": {
          "base_uri": "https://localhost:8080/"
        }
      },
      "execution_count": null,
      "outputs": [
        {
          "output_type": "stream",
          "name": "stdout",
          "text": [
            "Looking in indexes: https://pypi.org/simple, https://us-python.pkg.dev/colab-wheels/public/simple/\n",
            "Requirement already satisfied: nltk in /usr/local/lib/python3.9/dist-packages (3.8.1)\n",
            "Requirement already satisfied: tqdm in /usr/local/lib/python3.9/dist-packages (from nltk) (4.65.0)\n",
            "Requirement already satisfied: joblib in /usr/local/lib/python3.9/dist-packages (from nltk) (1.1.1)\n",
            "Requirement already satisfied: regex>=2021.8.3 in /usr/local/lib/python3.9/dist-packages (from nltk) (2022.10.31)\n",
            "Requirement already satisfied: click in /usr/local/lib/python3.9/dist-packages (from nltk) (8.1.3)\n"
          ]
        }
      ]
    },
    {
      "cell_type": "code",
      "source": [
        "from nltk.translate.bleu_score import sentence_bleu\n"
      ],
      "metadata": {
        "id": "_QPPCfwuWaJl"
      },
      "execution_count": null,
      "outputs": []
    },
    {
      "cell_type": "code",
      "source": [
        "generated_text=\"\"\"TOEVER BETTER ACQUAINTEST WHEN HASTER BETWEEN HARRY, ED.AHLED ANYOLION SHEARS A SUBDEN COSLECEMES OF MERCHAMEN BY FAGIN, A very Oliver had expectation, as fasiness at the medge of his right angles; and wrenching his\n",
        "hands tighter and tighter in the garments of all in singar:\n",
        "and enableed in the heavy manner, that Oliver was on his turpound load, had\n",
        "entered the shop without attracting the door, and looking\n",
        "refreshing to Mr. Brothles, shall in it. Some happiness, the Project\n",
        "Gutenberg Literary Archive Foundation, the manager of the \n",
        "letter courc around the door. Brittles obeyed; the girl’s life and half-headed or fiftient; and\n",
        "then, although he could hear it was the boy and his young comrade\n",
        "sat in a corner by themselves, without being much troubled by their\n",
        "company.\n",
        "\n",
        "They had some cold meat for dinner, and sat himself downstairs to the eye, the expression of steenny\n",
        "fumiating, stepped up the stairs inchint for his drast with the hands of\n",
        "his hands into his pockets, and\"\"\"\n",
        "\n",
        "reference_text = \"\"\" TREATS OF THE PLACE WHERE OLIVER TWIST WAS BORN AND OF THE\n",
        "CIRCUMSTANCES ATTENDING HIS BIRTH\n",
        "\n",
        "\n",
        "Among other public buildings in a certain town, which for many reasons\n",
        "it will be prudent to refrain from mentioning, and to which I will\n",
        "assign no fictitious name, there is one anciently common to most towns,\n",
        "great or small: to wit, a workhouse; and in this workhouse was born; on\n",
        "a day and date which I need not trouble myself to repeat, inasmuch as\n",
        "it can be of no possible consequence to the reader, in this stage of\n",
        "the business at all events; the item of mortality whose name is\n",
        "prefixed to the head of this chapter.\n",
        "\n",
        "For a long time after it was ushered into this world of sorrow and\n",
        "trouble, by the parish surgeon, it remained a matter of considerable\n",
        "doubt whether the child would survive to bear any name at all; in which\n",
        "case it is somewhat more than probable that these memoirs would never\n",
        "have appeared; or, if they had, that being comprised within a couple of\n",
        "pages, they would have possessed the inestimable merit of being the\n",
        "most concise and faithful specimen of biography, extant in the\n",
        "literature of any age or country.\n",
        "\n",
        "Although I am not disposed to maintain that the being born in a\n",
        "workhouse, is in itself the most fortunate and enviable circumstance\n",
        "that can possibly befall a human being, I do mean to say that in this\n",
        "particular instance, it was the best thing for Oliver Twist that could\n",
        "by possibility have occurred. The fact is, that there was considerable\n",
        "difficulty in inducing Oliver to take upon himself the office of\n",
        "respiration,—a troublesome practice, but one which custom has rendered\n",
        "necessary to our easy existence; and for some time he lay gasping on a\n",
        "little flock mattress, rather unequally poised between this world and\n",
        "the next: the balance being decidedly in favour of the latter. Now, if,\n",
        "during this brief period, Oliver had been surrounded by careful\n",
        "grandmothers, anxious aunts, experienced nurses, and doctors of\n",
        "profound wisdom, he would most inevitably and indubitably have been\n",
        "killed in no time. There being nobody by, however, but a pauper old\n",
        "woman, who was rendered rather misty by an unwonted allowance of beer;\n",
        "and a parish surgeon who did such matters by contract; Oliver and\n",
        "Nature fought out the point between them. The result was, that, after a\n",
        "few struggles, Oliver breathed, sneezed, and proceeded to advertise to\n",
        "the inmates of the workhouse the fact of a new burden having been\n",
        "imposed upon the parish, by setting up as loud a cry as could\n",
        "reasonably have been expected from a male infant who had not been\n",
        "possessed of that very useful appendage, a voice, for a much longer\n",
        "space of time than three minutes and a quarter.\n",
        "\n",
        "As Oliver gave this first proof of the free and proper action of his\n",
        "lungs, the patchwork coverlet which was carelessly flung over the iron\n",
        "bedstead, rustled; the pale face of a young woman was raised feebly\n",
        "from the pillow; and a faint voice imperfectly articulated the words,\n",
        "“Let me see the child, and die.”\n",
        "\n",
        "The surgeon had been sitting with his face turned towards the fire:\n",
        "giving the palms of his hands a warm and a rub alternately. As the\n",
        "young woman spoke, he rose, and advancing to the bed’s head, said, with\n",
        "more kindness than might have been expected of him:\n",
        "\n",
        "“Oh, you must not talk about dying yet.”\n",
        "\n",
        "“Lor bless her dear heart, no!” interposed the nurse, hastily\n",
        "depositing in her pocket a green glass bottle, the contents of which\n",
        "she had been tasting in a corner with evident satisfaction.\n",
        "\n",
        "“Lor bless her dear heart, when she has lived as long as I have, sir,\n",
        "and had thirteen children of her own, and all on ’em dead except two,\n",
        "and them in the wurkus with me, she’ll know better than to take on in\n",
        "that way, bless her dear heart! Think what it is to be a mother,\n",
        "there’s a dear young lamb do.”\n",
        "\n",
        "Apparently this consolatory perspective of a mother’s prospects failed\n",
        "in producing its due effect. The patient shook her head, and stretched\n",
        "out her hand towards the child.\n",
        "\n",
        "The surgeon deposited it in her arms. She imprinted her cold white lips\n",
        "passionately on its forehead; passed her hands over her face; gazed\n",
        "wildly round; shuddered; fell back—and died. They chafed her breast,\n",
        "hands, and temples; but the blood had stopped forever. They talked of\n",
        "hope and comfort. They had been strangers too long.\n",
        "\n",
        "“It’s all over, Mrs. Thingummy!” said the surgeon at last.\n",
        "\n",
        "“Ah, poor dear, so it is!” said the nurse, picking up the cork of the\n",
        "green bottle, which had fallen out on the pillow, as she stooped to\n",
        "take up the child. “Poor dear!”\n",
        "\n",
        "“You needn’t mind sending up to me, if the child cries, nurse,” said\n",
        "the surgeon, putting on his gloves with great deliberation. “It’s very\n",
        "likely it _will_ be troublesome. Give it a little gruel if it is.” He\n",
        "put on his hat, and, pausing by the bed-side on his way to the door,\n",
        "added, “She was a good-looking girl, too; where did she come from?”\n",
        "\n",
        "“She was brought here last night,” replied the old woman, “by the\n",
        "overseer’s order. She was found lying in the street. She had walked\n",
        "some distance, for her shoes were worn to pieces; but where she came\n",
        "from, or where she was going to, nobody knows.”\n",
        "\n",
        "The surgeon leaned over the body, and raised the left hand. “The old\n",
        "story,” he said, shaking his head: “no wedding-ring, I see. Ah!\n",
        "Good-night!”\n",
        "\n",
        "The medical gentleman walked away to dinner; and the nurse, having once\n",
        "more applied herself to the green bottle, sat down on a low chair\n",
        "before the fire, and proceeded to dress the infant.\n",
        "\n",
        "What an excellent example of the power of dress, young Oliver Twist\n",
        "was! Wrapped in the blanket which had hitherto formed his only\n",
        "covering, he might have been the child of a nobleman or a beggar; it\n",
        "would have been hard for the haughtiest stranger to have assigned him\n",
        "his proper station in society. But now that he was enveloped in the old\n",
        "calico robes which had grown yellow in the same service, he was badged\n",
        "and ticketed, and fell into his place at once—a parish child—the orphan\n",
        "of a workhouse—the humble, half-starved drudge—to be cuffed and\n",
        "buffeted through the world—despised by all, and pitied by none.\n",
        "\n",
        "Oliver cried lustily. If he could have known that he was an orphan,\n",
        "left to the tender mercies of church-wardens and overseers, perhaps he\n",
        "would have cried the louder.\"\"\"\n",
        "\n",
        "# Tokenize the generated and reference texts\n",
        "generated_tokens = generated_text.split()\n",
        "reference_tokens = reference_text.split()\n",
        "\n",
        "# Calculate the BLEU score\n",
        "bleu_score = sentence_bleu([reference_tokens], generated_tokens)\n",
        "print(\"BLEU score:\", bleu_score)\n",
        "\n",
        "\n"
      ],
      "metadata": {
        "id": "bwXHCRdUWcp5",
        "outputId": "8eaffcfe-c2bd-42f0-f48e-6bd4215619e0",
        "colab": {
          "base_uri": "https://localhost:8080/"
        }
      },
      "execution_count": null,
      "outputs": [
        {
          "output_type": "stream",
          "name": "stdout",
          "text": [
            "BLEU score: 7.099636268284111e-81\n"
          ]
        }
      ]
    },
    {
      "cell_type": "code",
      "source": [],
      "metadata": {
        "id": "do85JWIAXtpo"
      },
      "execution_count": null,
      "outputs": []
    }
  ],
  "metadata": {
    "accelerator": "GPU",
    "colab": {
      "provenance": [],
      "include_colab_link": true
    },
    "kernelspec": {
      "display_name": "Python 3",
      "name": "python3"
    }
  },
  "nbformat": 4,
  "nbformat_minor": 0
}